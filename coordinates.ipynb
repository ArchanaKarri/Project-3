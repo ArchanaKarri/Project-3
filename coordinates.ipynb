{
 "cells": [
  {
   "cell_type": "code",
   "execution_count": 1,
   "id": "15923542",
   "metadata": {},
   "outputs": [],
   "source": [
    "import matplotlib.pyplot as plt\n",
    "import pandas as pd\n",
    "import numpy as np\n",
    "import requests\n",
    "import gmaps"
   ]
  },
  {
   "cell_type": "code",
   "execution_count": 2,
   "id": "8103dd21",
   "metadata": {},
   "outputs": [],
   "source": [
    "# Google developer API key\n",
    "from api_keys import g_key\n",
    "\n",
    "# #configure gmaps\n",
    "# gmaps.configure(api_key=g_key)"
   ]
  },
  {
   "cell_type": "code",
   "execution_count": 6,
   "id": "805a82b7",
   "metadata": {},
   "outputs": [],
   "source": [
    "suburb = \"Colac\"\n",
    "state = \"VIC\"\n",
    "Api_Key = g_key\n",
    "\n",
    "# run a request using our params dictionary\n",
    "response = requests.get(f\"https://maps.googleapis.com/maps/api/geocode/json?address={suburb},{state}&key={Api_Key}\").json()"
   ]
  },
  {
   "cell_type": "code",
   "execution_count": 18,
   "id": "46fc2839",
   "metadata": {},
   "outputs": [
    {
     "name": "stdout",
     "output_type": "stream",
     "text": [
      "-38.3410186\n",
      "143.5854622\n"
     ]
    }
   ],
   "source": [
    "print(response['results'][0]['geometry']['location']['lat'])\n",
    "print(response['results'][0]['geometry']['location']['lng'])"
   ]
  },
  {
   "cell_type": "code",
   "execution_count": null,
   "id": "db8625ae",
   "metadata": {},
   "outputs": [],
   "source": []
  },
  {
   "cell_type": "code",
   "execution_count": null,
   "id": "36224657",
   "metadata": {},
   "outputs": [],
   "source": []
  }
 ],
 "metadata": {
  "kernelspec": {
   "display_name": "Python [conda env:PythonData2] *",
   "language": "python",
   "name": "conda-env-PythonData2-py"
  },
  "language_info": {
   "codemirror_mode": {
    "name": "ipython",
    "version": 3
   },
   "file_extension": ".py",
   "mimetype": "text/x-python",
   "name": "python",
   "nbconvert_exporter": "python",
   "pygments_lexer": "ipython3",
   "version": "3.7.7"
  }
 },
 "nbformat": 4,
 "nbformat_minor": 5
}
