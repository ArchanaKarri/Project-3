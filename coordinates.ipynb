{
 "cells": [
  {
   "cell_type": "code",
   "execution_count": 1,
   "id": "99d6fc72",
   "metadata": {},
   "outputs": [],
   "source": [
    "import pandas as pd\n",
    "from sqlalchemy import create_engine\n",
    "from sqlalchemy import inspect\n",
    "import numpy as np\n",
    "import config"
   ]
  },
  {
   "cell_type": "code",
   "execution_count": 2,
   "id": "e6f937e5",
   "metadata": {},
   "outputs": [],
   "source": [
    "# Store csv path ad name\n",
    "ship_csv = (\"clean.csv\")\n",
    "postcode_csv = (\"data/australian_postcodes.csv\")\n",
    "sa3_csv = (\"data/SA3_2021_AUST.csv\")\n",
    "\n",
    "# Read in csv file\n",
    "shipments_df = pd.read_csv(ship_csv, index_col=0)\n",
    "postcode_df = pd.read_csv(postcode_csv)\n",
    "sa3_df = pd.read_csv(sa3_csv)"
   ]
  },
  {
   "cell_type": "markdown",
   "id": "765ed427",
   "metadata": {},
   "source": [
    "### Shipment Data"
   ]
  },
  {
   "cell_type": "code",
   "execution_count": 3,
   "id": "e03ccc9f",
   "metadata": {},
   "outputs": [],
   "source": [
    "# get names of indexes for which column cmlPostCode has value \"H7E 1A1\"\n",
    "index_names = shipments_df[ shipments_df['cmlPostCode'] == \"H7E 1A1\" ].index\n",
    "  \n",
    "# drop these row indexes from dataFrame\n",
    "shipments_df.drop(index_names, inplace = True)"
   ]
  },
  {
   "cell_type": "code",
   "execution_count": 4,
   "id": "bdabe09d",
   "metadata": {},
   "outputs": [],
   "source": [
    "# Convert datatype to numeric\n",
    "shipments_df[[\"cmlPostCode\"]] = shipments_df[[\"cmlPostCode\"]].apply(pd.to_numeric)"
   ]
  },
  {
   "cell_type": "code",
   "execution_count": 5,
   "id": "773c8609",
   "metadata": {},
   "outputs": [],
   "source": [
    "# Convert datatype to int\n",
    "shipments_df[[\"cmlPostCode\"]] = shipments_df[[\"cmlPostCode\"]].astype(np.int64)"
   ]
  },
  {
   "cell_type": "markdown",
   "id": "8367c87a",
   "metadata": {},
   "source": [
    "### Cleaning Postcode Data"
   ]
  },
  {
   "cell_type": "code",
   "execution_count": 6,
   "id": "68d2a738",
   "metadata": {},
   "outputs": [
    {
     "data": {
      "text/plain": [
       "3073"
      ]
     },
     "execution_count": 6,
     "metadata": {},
     "output_type": "execute_result"
    }
   ],
   "source": [
    "# Drop unnecessary columns\n",
    "filtered_postcode_df = postcode_df[[\"postcode\",\"lat\",\"long\",\"sa3\",\"sa3name\"]]\n",
    "\n",
    "# Drop NaN values in sa3 column\n",
    "filtered_postcode_df = filtered_postcode_df.dropna(subset=['sa3'])\n",
    "\n",
    "# Check to see how many uniqu postcodes are in the df\n",
    "len(filtered_postcode_df[\"postcode\"].unique())\n"
   ]
  },
  {
   "cell_type": "code",
   "execution_count": 7,
   "id": "a18c40bd",
   "metadata": {},
   "outputs": [],
   "source": [
    "# Ceate new df with duplicated postcodes removed\n",
    "unique_postcode_df = filtered_postcode_df.drop_duplicates(['postcode'], keep='first')\n",
    "\n",
    "# Set Postcode as the index\n",
    "unique_postcode_df = unique_postcode_df.set_index(\"postcode\", inplace = False)"
   ]
  },
  {
   "cell_type": "code",
   "execution_count": 8,
   "id": "5f08a2ef",
   "metadata": {},
   "outputs": [
    {
     "data": {
      "text/plain": [
       "3073"
      ]
     },
     "execution_count": 8,
     "metadata": {},
     "output_type": "execute_result"
    }
   ],
   "source": [
    "# Confirm no. of unique rows are still in the df\n",
    "len(unique_postcode_df)"
   ]
  },
  {
   "cell_type": "code",
   "execution_count": 9,
   "id": "0f9c77eb",
   "metadata": {},
   "outputs": [
    {
     "data": {
      "text/html": [
       "<div>\n",
       "<style scoped>\n",
       "    .dataframe tbody tr th:only-of-type {\n",
       "        vertical-align: middle;\n",
       "    }\n",
       "\n",
       "    .dataframe tbody tr th {\n",
       "        vertical-align: top;\n",
       "    }\n",
       "\n",
       "    .dataframe thead th {\n",
       "        text-align: right;\n",
       "    }\n",
       "</style>\n",
       "<table border=\"1\" class=\"dataframe\">\n",
       "  <thead>\n",
       "    <tr style=\"text-align: right;\">\n",
       "      <th></th>\n",
       "      <th>lat</th>\n",
       "      <th>long</th>\n",
       "      <th>sa3</th>\n",
       "      <th>sa3name</th>\n",
       "    </tr>\n",
       "    <tr>\n",
       "      <th>postcode</th>\n",
       "      <th></th>\n",
       "      <th></th>\n",
       "      <th></th>\n",
       "      <th></th>\n",
       "    </tr>\n",
       "  </thead>\n",
       "  <tbody>\n",
       "    <tr>\n",
       "      <th>800</th>\n",
       "      <td>-12.458684</td>\n",
       "      <td>130.836680</td>\n",
       "      <td>70101.0</td>\n",
       "      <td>Darwin City</td>\n",
       "    </tr>\n",
       "    <tr>\n",
       "      <th>801</th>\n",
       "      <td>-12.458684</td>\n",
       "      <td>130.836680</td>\n",
       "      <td>70101.0</td>\n",
       "      <td>Darwin City</td>\n",
       "    </tr>\n",
       "    <tr>\n",
       "      <th>804</th>\n",
       "      <td>-12.428017</td>\n",
       "      <td>130.873315</td>\n",
       "      <td>70102.0</td>\n",
       "      <td>Darwin Suburbs</td>\n",
       "    </tr>\n",
       "    <tr>\n",
       "      <th>810</th>\n",
       "      <td>-12.381806</td>\n",
       "      <td>130.866242</td>\n",
       "      <td>70102.0</td>\n",
       "      <td>Darwin Suburbs</td>\n",
       "    </tr>\n",
       "    <tr>\n",
       "      <th>811</th>\n",
       "      <td>-12.381806</td>\n",
       "      <td>130.866242</td>\n",
       "      <td>70102.0</td>\n",
       "      <td>Darwin Suburbs</td>\n",
       "    </tr>\n",
       "  </tbody>\n",
       "</table>\n",
       "</div>"
      ],
      "text/plain": [
       "                lat        long      sa3         sa3name\n",
       "postcode                                                \n",
       "800      -12.458684  130.836680  70101.0     Darwin City\n",
       "801      -12.458684  130.836680  70101.0     Darwin City\n",
       "804      -12.428017  130.873315  70102.0  Darwin Suburbs\n",
       "810      -12.381806  130.866242  70102.0  Darwin Suburbs\n",
       "811      -12.381806  130.866242  70102.0  Darwin Suburbs"
      ]
     },
     "execution_count": 9,
     "metadata": {},
     "output_type": "execute_result"
    }
   ],
   "source": [
    "# Print Head\n",
    "unique_postcode_df.head(5)"
   ]
  },
  {
   "cell_type": "markdown",
   "id": "fe1660de",
   "metadata": {},
   "source": [
    "### Cleaning SA3 Data"
   ]
  },
  {
   "cell_type": "code",
   "execution_count": 10,
   "id": "c56ea5c1",
   "metadata": {},
   "outputs": [
    {
     "data": {
      "text/html": [
       "<div>\n",
       "<style scoped>\n",
       "    .dataframe tbody tr th:only-of-type {\n",
       "        vertical-align: middle;\n",
       "    }\n",
       "\n",
       "    .dataframe tbody tr th {\n",
       "        vertical-align: top;\n",
       "    }\n",
       "\n",
       "    .dataframe thead th {\n",
       "        text-align: right;\n",
       "    }\n",
       "</style>\n",
       "<table border=\"1\" class=\"dataframe\">\n",
       "  <thead>\n",
       "    <tr style=\"text-align: right;\">\n",
       "      <th></th>\n",
       "      <th>sa3name</th>\n",
       "      <th>location_URI</th>\n",
       "    </tr>\n",
       "    <tr>\n",
       "      <th>sa3</th>\n",
       "      <th></th>\n",
       "      <th></th>\n",
       "    </tr>\n",
       "  </thead>\n",
       "  <tbody>\n",
       "    <tr>\n",
       "      <th>10102</th>\n",
       "      <td>Queanbeyan</td>\n",
       "      <td>http://linked.data.gov.au/dataset/asgsed3/SA3/...</td>\n",
       "    </tr>\n",
       "    <tr>\n",
       "      <th>10103</th>\n",
       "      <td>Snowy Mountains</td>\n",
       "      <td>http://linked.data.gov.au/dataset/asgsed3/SA3/...</td>\n",
       "    </tr>\n",
       "    <tr>\n",
       "      <th>10104</th>\n",
       "      <td>South Coast</td>\n",
       "      <td>http://linked.data.gov.au/dataset/asgsed3/SA3/...</td>\n",
       "    </tr>\n",
       "    <tr>\n",
       "      <th>10105</th>\n",
       "      <td>Goulburn - Mulwaree</td>\n",
       "      <td>http://linked.data.gov.au/dataset/asgsed3/SA3/...</td>\n",
       "    </tr>\n",
       "    <tr>\n",
       "      <th>10106</th>\n",
       "      <td>Young - Yass</td>\n",
       "      <td>http://linked.data.gov.au/dataset/asgsed3/SA3/...</td>\n",
       "    </tr>\n",
       "  </tbody>\n",
       "</table>\n",
       "</div>"
      ],
      "text/plain": [
       "                   sa3name                                       location_URI\n",
       "sa3                                                                          \n",
       "10102           Queanbeyan  http://linked.data.gov.au/dataset/asgsed3/SA3/...\n",
       "10103      Snowy Mountains  http://linked.data.gov.au/dataset/asgsed3/SA3/...\n",
       "10104          South Coast  http://linked.data.gov.au/dataset/asgsed3/SA3/...\n",
       "10105  Goulburn - Mulwaree  http://linked.data.gov.au/dataset/asgsed3/SA3/...\n",
       "10106         Young - Yass  http://linked.data.gov.au/dataset/asgsed3/SA3/..."
      ]
     },
     "execution_count": 10,
     "metadata": {},
     "output_type": "execute_result"
    }
   ],
   "source": [
    "# Drop unnecessary columns\n",
    "filtered_sa3_df = sa3_df[['SA3_CODE_2021',\"SA3_NAME_2021\",\"ASGS_LOCI_URI_2021\"]]\n",
    "\n",
    "#Rename Columns\n",
    "filtered_sa3_df = filtered_sa3_df.rename(columns = {'SA3_CODE_2021':'sa3','SA3_NAME_2021':'sa3name', 'ASGS_LOCI_URI_2021':'location_URI'\n",
    "                              }, inplace = False)\n",
    "\n",
    "# Set sa3 as the index\n",
    "filtered_sa3_df = filtered_sa3_df.set_index(\"sa3\", inplace = False)\n",
    "\n",
    "# Drop Index ZZZZZZ\n",
    "clean_sa3_df = filtered_sa3_df.drop('ZZZZZ')\n",
    "\n",
    "# Print Head\n",
    "clean_sa3_df.head(5)"
   ]
  },
  {
   "cell_type": "markdown",
   "id": "7edc7034",
   "metadata": {},
   "source": [
    "### Load Data"
   ]
  },
  {
   "cell_type": "code",
   "execution_count": 11,
   "id": "4e69cc48",
   "metadata": {},
   "outputs": [],
   "source": [
    "#Connecting to local database using config for all personal data\n",
    "rds_connection_string = f'{config.protocol}://{config.username}:{config.password}@{config.host}:{config.port}/{config.database_name}'\n",
    "engine = create_engine(rds_connection_string)\n",
    "insp = inspect(engine)"
   ]
  },
  {
   "cell_type": "code",
   "execution_count": 12,
   "id": "5dd38903",
   "metadata": {},
   "outputs": [
    {
     "data": {
      "text/plain": [
       "['sa3_table', 'australian_postcodes', 'shipment_table']"
      ]
     },
     "execution_count": 12,
     "metadata": {},
     "output_type": "execute_result"
    }
   ],
   "source": [
    "#Check to see if queries.sql code has been run in PGAdmin\n",
    "insp.get_table_names()"
   ]
  },
  {
   "cell_type": "code",
   "execution_count": 13,
   "id": "aee2aa13",
   "metadata": {},
   "outputs": [],
   "source": [
    "#Import sa3_table data frame into SQL\n",
    "clean_sa3_df.to_sql(name='sa3_table', con=engine, if_exists='append', index=True)"
   ]
  },
  {
   "cell_type": "code",
   "execution_count": 14,
   "id": "965b1b62",
   "metadata": {},
   "outputs": [
    {
     "data": {
      "text/html": [
       "<div>\n",
       "<style scoped>\n",
       "    .dataframe tbody tr th:only-of-type {\n",
       "        vertical-align: middle;\n",
       "    }\n",
       "\n",
       "    .dataframe tbody tr th {\n",
       "        vertical-align: top;\n",
       "    }\n",
       "\n",
       "    .dataframe thead th {\n",
       "        text-align: right;\n",
       "    }\n",
       "</style>\n",
       "<table border=\"1\" class=\"dataframe\">\n",
       "  <thead>\n",
       "    <tr style=\"text-align: right;\">\n",
       "      <th></th>\n",
       "      <th>sa3</th>\n",
       "      <th>sa3name</th>\n",
       "      <th>location_URI</th>\n",
       "    </tr>\n",
       "  </thead>\n",
       "  <tbody>\n",
       "    <tr>\n",
       "      <th>0</th>\n",
       "      <td>10102</td>\n",
       "      <td>Queanbeyan</td>\n",
       "      <td>http://linked.data.gov.au/dataset/asgsed3/SA3/...</td>\n",
       "    </tr>\n",
       "    <tr>\n",
       "      <th>1</th>\n",
       "      <td>10103</td>\n",
       "      <td>Snowy Mountains</td>\n",
       "      <td>http://linked.data.gov.au/dataset/asgsed3/SA3/...</td>\n",
       "    </tr>\n",
       "    <tr>\n",
       "      <th>2</th>\n",
       "      <td>10104</td>\n",
       "      <td>South Coast</td>\n",
       "      <td>http://linked.data.gov.au/dataset/asgsed3/SA3/...</td>\n",
       "    </tr>\n",
       "    <tr>\n",
       "      <th>3</th>\n",
       "      <td>10105</td>\n",
       "      <td>Goulburn - Mulwaree</td>\n",
       "      <td>http://linked.data.gov.au/dataset/asgsed3/SA3/...</td>\n",
       "    </tr>\n",
       "    <tr>\n",
       "      <th>4</th>\n",
       "      <td>10106</td>\n",
       "      <td>Young - Yass</td>\n",
       "      <td>http://linked.data.gov.au/dataset/asgsed3/SA3/...</td>\n",
       "    </tr>\n",
       "  </tbody>\n",
       "</table>\n",
       "</div>"
      ],
      "text/plain": [
       "     sa3              sa3name  \\\n",
       "0  10102           Queanbeyan   \n",
       "1  10103      Snowy Mountains   \n",
       "2  10104          South Coast   \n",
       "3  10105  Goulburn - Mulwaree   \n",
       "4  10106         Young - Yass   \n",
       "\n",
       "                                        location_URI  \n",
       "0  http://linked.data.gov.au/dataset/asgsed3/SA3/...  \n",
       "1  http://linked.data.gov.au/dataset/asgsed3/SA3/...  \n",
       "2  http://linked.data.gov.au/dataset/asgsed3/SA3/...  \n",
       "3  http://linked.data.gov.au/dataset/asgsed3/SA3/...  \n",
       "4  http://linked.data.gov.au/dataset/asgsed3/SA3/...  "
      ]
     },
     "execution_count": 14,
     "metadata": {},
     "output_type": "execute_result"
    }
   ],
   "source": [
    "#Checking if sa3_table data has been loaded into the database\n",
    "pd.read_sql_query('select * from sa3_table', con=engine).head()"
   ]
  },
  {
   "cell_type": "code",
   "execution_count": 15,
   "id": "55abcf40",
   "metadata": {},
   "outputs": [],
   "source": [
    "#Import australian_postcodes data frame into SQL\n",
    "unique_postcode_df.to_sql(name='australian_postcodes', con=engine, if_exists='append', index=True)"
   ]
  },
  {
   "cell_type": "code",
   "execution_count": 16,
   "id": "2bbd1744",
   "metadata": {},
   "outputs": [
    {
     "data": {
      "text/html": [
       "<div>\n",
       "<style scoped>\n",
       "    .dataframe tbody tr th:only-of-type {\n",
       "        vertical-align: middle;\n",
       "    }\n",
       "\n",
       "    .dataframe tbody tr th {\n",
       "        vertical-align: top;\n",
       "    }\n",
       "\n",
       "    .dataframe thead th {\n",
       "        text-align: right;\n",
       "    }\n",
       "</style>\n",
       "<table border=\"1\" class=\"dataframe\">\n",
       "  <thead>\n",
       "    <tr style=\"text-align: right;\">\n",
       "      <th></th>\n",
       "      <th>postcode</th>\n",
       "      <th>lat</th>\n",
       "      <th>long</th>\n",
       "      <th>sa3</th>\n",
       "      <th>sa3name</th>\n",
       "    </tr>\n",
       "  </thead>\n",
       "  <tbody>\n",
       "    <tr>\n",
       "      <th>0</th>\n",
       "      <td>800</td>\n",
       "      <td>-12.458684</td>\n",
       "      <td>130.836680</td>\n",
       "      <td>70101</td>\n",
       "      <td>Darwin City</td>\n",
       "    </tr>\n",
       "    <tr>\n",
       "      <th>1</th>\n",
       "      <td>801</td>\n",
       "      <td>-12.458684</td>\n",
       "      <td>130.836680</td>\n",
       "      <td>70101</td>\n",
       "      <td>Darwin City</td>\n",
       "    </tr>\n",
       "    <tr>\n",
       "      <th>2</th>\n",
       "      <td>804</td>\n",
       "      <td>-12.428017</td>\n",
       "      <td>130.873315</td>\n",
       "      <td>70102</td>\n",
       "      <td>Darwin Suburbs</td>\n",
       "    </tr>\n",
       "    <tr>\n",
       "      <th>3</th>\n",
       "      <td>810</td>\n",
       "      <td>-12.381806</td>\n",
       "      <td>130.866242</td>\n",
       "      <td>70102</td>\n",
       "      <td>Darwin Suburbs</td>\n",
       "    </tr>\n",
       "    <tr>\n",
       "      <th>4</th>\n",
       "      <td>811</td>\n",
       "      <td>-12.381806</td>\n",
       "      <td>130.866242</td>\n",
       "      <td>70102</td>\n",
       "      <td>Darwin Suburbs</td>\n",
       "    </tr>\n",
       "  </tbody>\n",
       "</table>\n",
       "</div>"
      ],
      "text/plain": [
       "   postcode        lat        long    sa3         sa3name\n",
       "0       800 -12.458684  130.836680  70101     Darwin City\n",
       "1       801 -12.458684  130.836680  70101     Darwin City\n",
       "2       804 -12.428017  130.873315  70102  Darwin Suburbs\n",
       "3       810 -12.381806  130.866242  70102  Darwin Suburbs\n",
       "4       811 -12.381806  130.866242  70102  Darwin Suburbs"
      ]
     },
     "execution_count": 16,
     "metadata": {},
     "output_type": "execute_result"
    }
   ],
   "source": [
    "#Checking if australian_postcodes data has been loaded into the database\n",
    "pd.read_sql_query('select * from australian_postcodes', con=engine).head()"
   ]
  },
  {
   "cell_type": "code",
   "execution_count": 17,
   "id": "786c3f68",
   "metadata": {},
   "outputs": [],
   "source": [
    "#Import australian_postcodes data frame into SQL\n",
    "shipments_df.to_sql(name='shipment_table', con=engine, if_exists='append', index=False)"
   ]
  },
  {
   "cell_type": "code",
   "execution_count": 18,
   "id": "c6f94fa8",
   "metadata": {},
   "outputs": [
    {
     "data": {
      "text/html": [
       "<div>\n",
       "<style scoped>\n",
       "    .dataframe tbody tr th:only-of-type {\n",
       "        vertical-align: middle;\n",
       "    }\n",
       "\n",
       "    .dataframe tbody tr th {\n",
       "        vertical-align: top;\n",
       "    }\n",
       "\n",
       "    .dataframe thead th {\n",
       "        text-align: right;\n",
       "    }\n",
       "</style>\n",
       "<table border=\"1\" class=\"dataframe\">\n",
       "  <thead>\n",
       "    <tr style=\"text-align: right;\">\n",
       "      <th></th>\n",
       "      <th>id</th>\n",
       "      <th>smpPlantID</th>\n",
       "      <th>smlCreatedDate</th>\n",
       "      <th>smlShipmentID</th>\n",
       "      <th>smlShipmentLineID</th>\n",
       "      <th>smlPartID</th>\n",
       "      <th>smlDescription</th>\n",
       "      <th>smlPartRevisionID</th>\n",
       "      <th>smpCustomerOrganizationID</th>\n",
       "      <th>smpShipDate</th>\n",
       "      <th>smpShipOrganizationID</th>\n",
       "      <th>impPartGroupID</th>\n",
       "      <th>cmlOrganizationID</th>\n",
       "      <th>cmlName</th>\n",
       "      <th>cmlAddressLine1</th>\n",
       "      <th>cmlCity</th>\n",
       "      <th>cmlState</th>\n",
       "      <th>cmlPostCode</th>\n",
       "      <th>quantityShipped</th>\n",
       "    </tr>\n",
       "  </thead>\n",
       "  <tbody>\n",
       "    <tr>\n",
       "      <th>0</th>\n",
       "      <td>1</td>\n",
       "      <td>P01</td>\n",
       "      <td>23/07/2021 4:41:16 PM</td>\n",
       "      <td>129241</td>\n",
       "      <td>1</td>\n",
       "      <td>105689</td>\n",
       "      <td>Cardboard Carton Dc/Rsc 1190mm x 195mm x 700mm...</td>\n",
       "      <td>None</td>\n",
       "      <td>FROAUS</td>\n",
       "      <td>26/07/2021 12:00:00 AM</td>\n",
       "      <td>FROAUS</td>\n",
       "      <td>CARD</td>\n",
       "      <td>FROAUS</td>\n",
       "      <td>Frontline Australasia Pty Ltd</td>\n",
       "      <td>Door 3, 55 Letcon Drive</td>\n",
       "      <td>Bangholme</td>\n",
       "      <td>VIC</td>\n",
       "      <td>3175</td>\n",
       "      <td>23.0</td>\n",
       "    </tr>\n",
       "    <tr>\n",
       "      <th>1</th>\n",
       "      <td>2</td>\n",
       "      <td>P01</td>\n",
       "      <td>23/07/2021 4:41:16 PM</td>\n",
       "      <td>129241</td>\n",
       "      <td>2</td>\n",
       "      <td>105689</td>\n",
       "      <td>Cardboard Carton Dc/Rsc 1190mm x 195mm x 700mm...</td>\n",
       "      <td>None</td>\n",
       "      <td>FROAUS</td>\n",
       "      <td>26/07/2021 12:00:00 AM</td>\n",
       "      <td>FROAUS</td>\n",
       "      <td>CARD</td>\n",
       "      <td>FROAUS</td>\n",
       "      <td>Frontline Australasia Pty Ltd</td>\n",
       "      <td>Door 3, 55 Letcon Drive</td>\n",
       "      <td>Bangholme</td>\n",
       "      <td>VIC</td>\n",
       "      <td>3175</td>\n",
       "      <td>3.0</td>\n",
       "    </tr>\n",
       "    <tr>\n",
       "      <th>2</th>\n",
       "      <td>3</td>\n",
       "      <td>P09</td>\n",
       "      <td>26/07/2021 6:35:23 AM</td>\n",
       "      <td>129247</td>\n",
       "      <td>1</td>\n",
       "      <td>305834</td>\n",
       "      <td>WESTRO Pallet 1165mm x 1165mm x 138mm</td>\n",
       "      <td>P09</td>\n",
       "      <td>WESOCE</td>\n",
       "      <td>26/07/2021 6:35:17 AM</td>\n",
       "      <td>WESOCE</td>\n",
       "      <td>PAL</td>\n",
       "      <td>WESOCE</td>\n",
       "      <td>Westrock Oceania Pty Ltd</td>\n",
       "      <td>Gate 1, Beaumont Avenue</td>\n",
       "      <td>North Richmond</td>\n",
       "      <td>NSW</td>\n",
       "      <td>2754</td>\n",
       "      <td>20.0</td>\n",
       "    </tr>\n",
       "    <tr>\n",
       "      <th>3</th>\n",
       "      <td>4</td>\n",
       "      <td>P09</td>\n",
       "      <td>26/07/2021 6:36:49 AM</td>\n",
       "      <td>129248</td>\n",
       "      <td>1</td>\n",
       "      <td>306036</td>\n",
       "      <td>FIRES Pallet 570mm x 570mm</td>\n",
       "      <td>P09</td>\n",
       "      <td>FIRPTY</td>\n",
       "      <td>26/07/2021 6:36:44 AM</td>\n",
       "      <td>FIRPTY</td>\n",
       "      <td>PAL</td>\n",
       "      <td>FIRPTY</td>\n",
       "      <td>Firesense Pty Ltd</td>\n",
       "      <td>18-20 Brookhollow Avenue</td>\n",
       "      <td>Baulkham Hills</td>\n",
       "      <td>NSW</td>\n",
       "      <td>2153</td>\n",
       "      <td>32.0</td>\n",
       "    </tr>\n",
       "    <tr>\n",
       "      <th>4</th>\n",
       "      <td>5</td>\n",
       "      <td>P09</td>\n",
       "      <td>26/07/2021 6:36:49 AM</td>\n",
       "      <td>129248</td>\n",
       "      <td>2</td>\n",
       "      <td>305915</td>\n",
       "      <td>Std Heavy Duty Second Hand Pallets</td>\n",
       "      <td>HEAVY DUTY</td>\n",
       "      <td>FIRPTY</td>\n",
       "      <td>26/07/2021 6:36:44 AM</td>\n",
       "      <td>FIRPTY</td>\n",
       "      <td>PAL2</td>\n",
       "      <td>FIRPTY</td>\n",
       "      <td>Firesense Pty Ltd</td>\n",
       "      <td>18-20 Brookhollow Avenue</td>\n",
       "      <td>Baulkham Hills</td>\n",
       "      <td>NSW</td>\n",
       "      <td>2153</td>\n",
       "      <td>20.0</td>\n",
       "    </tr>\n",
       "  </tbody>\n",
       "</table>\n",
       "</div>"
      ],
      "text/plain": [
       "   id smpPlantID         smlCreatedDate  smlShipmentID  smlShipmentLineID  \\\n",
       "0   1        P01  23/07/2021 4:41:16 PM         129241                  1   \n",
       "1   2        P01  23/07/2021 4:41:16 PM         129241                  2   \n",
       "2   3        P09  26/07/2021 6:35:23 AM         129247                  1   \n",
       "3   4        P09  26/07/2021 6:36:49 AM         129248                  1   \n",
       "4   5        P09  26/07/2021 6:36:49 AM         129248                  2   \n",
       "\n",
       "   smlPartID                                     smlDescription  \\\n",
       "0     105689  Cardboard Carton Dc/Rsc 1190mm x 195mm x 700mm...   \n",
       "1     105689  Cardboard Carton Dc/Rsc 1190mm x 195mm x 700mm...   \n",
       "2     305834              WESTRO Pallet 1165mm x 1165mm x 138mm   \n",
       "3     306036                         FIRES Pallet 570mm x 570mm   \n",
       "4     305915                 Std Heavy Duty Second Hand Pallets   \n",
       "\n",
       "  smlPartRevisionID smpCustomerOrganizationID             smpShipDate  \\\n",
       "0              None                    FROAUS  26/07/2021 12:00:00 AM   \n",
       "1              None                    FROAUS  26/07/2021 12:00:00 AM   \n",
       "2               P09                    WESOCE   26/07/2021 6:35:17 AM   \n",
       "3               P09                    FIRPTY   26/07/2021 6:36:44 AM   \n",
       "4        HEAVY DUTY                    FIRPTY   26/07/2021 6:36:44 AM   \n",
       "\n",
       "  smpShipOrganizationID impPartGroupID cmlOrganizationID  \\\n",
       "0                FROAUS           CARD            FROAUS   \n",
       "1                FROAUS           CARD            FROAUS   \n",
       "2                WESOCE            PAL            WESOCE   \n",
       "3                FIRPTY            PAL            FIRPTY   \n",
       "4                FIRPTY           PAL2            FIRPTY   \n",
       "\n",
       "                         cmlName           cmlAddressLine1         cmlCity  \\\n",
       "0  Frontline Australasia Pty Ltd   Door 3, 55 Letcon Drive       Bangholme   \n",
       "1  Frontline Australasia Pty Ltd   Door 3, 55 Letcon Drive       Bangholme   \n",
       "2       Westrock Oceania Pty Ltd   Gate 1, Beaumont Avenue  North Richmond   \n",
       "3              Firesense Pty Ltd  18-20 Brookhollow Avenue  Baulkham Hills   \n",
       "4              Firesense Pty Ltd  18-20 Brookhollow Avenue  Baulkham Hills   \n",
       "\n",
       "  cmlState  cmlPostCode  quantityShipped  \n",
       "0      VIC         3175             23.0  \n",
       "1      VIC         3175              3.0  \n",
       "2      NSW         2754             20.0  \n",
       "3      NSW         2153             32.0  \n",
       "4      NSW         2153             20.0  "
      ]
     },
     "execution_count": 18,
     "metadata": {},
     "output_type": "execute_result"
    }
   ],
   "source": [
    "#Checking if australian_postcodes data has been loaded into the database\n",
    "pd.read_sql_query('select * from shipment_table', con=engine).head()"
   ]
  },
  {
   "cell_type": "code",
   "execution_count": null,
   "id": "130ecdf8",
   "metadata": {},
   "outputs": [],
   "source": []
  }
 ],
 "metadata": {
  "kernelspec": {
   "display_name": "Python [conda env:PythonData2] *",
   "language": "python",
   "name": "conda-env-PythonData2-py"
  },
  "language_info": {
   "codemirror_mode": {
    "name": "ipython",
    "version": 3
   },
   "file_extension": ".py",
   "mimetype": "text/x-python",
   "name": "python",
   "nbconvert_exporter": "python",
   "pygments_lexer": "ipython3",
   "version": "3.7.7"
  },
  "vscode": {
   "interpreter": {
    "hash": "6c9b5f2fc96e180b8a5a8a696d3f7e4165240dee36d2141e31628b5fa32cbf6e"
   }
  }
 },
 "nbformat": 4,
 "nbformat_minor": 5
}
